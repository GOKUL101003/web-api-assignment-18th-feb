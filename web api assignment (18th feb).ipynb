{
 "cells": [
  {
   "cell_type": "code",
   "execution_count": null,
   "id": "9cb5f771-95fe-42b7-91ed-6c8fea9b4f0d",
   "metadata": {},
   "outputs": [],
   "source": [
    "'''\n",
    "Q1. What is an API? Give an example, where an API is used in real life.\n",
    "soln: API is called application programming interface. \n",
    "      it is used to connect betwwen 2 homogenous or hetrogenous applications.\n",
    "      it can use TCP,SMTP OR HTTP \n",
    "      In real life, gpay is an example. gpay account is connected to the bank servers to check the transactions.\n",
    "      This is done using API.\n",
    "'''"
   ]
  },
  {
   "cell_type": "code",
   "execution_count": null,
   "id": "c515be8c-21ac-43b3-9aea-b18fd12b3516",
   "metadata": {},
   "outputs": [],
   "source": [
    "'''\n",
    "Q2. Give advantages and disadvantages of using API.\n",
    "soln: ADVANTAGES:\n",
    "                1. increases scalability\n",
    "                2. increases flexibility\n",
    "                3. increases user experience.\n",
    "                4. increases simplicity\n",
    "     DISADVANTAGES:\n",
    "                1. security risks\n",
    "                2. applications are dependent heavily on api. so api stops running, it will lead to downtime of servers.\n",
    "                3. API is expensive to use.\n",
    "'''"
   ]
  },
  {
   "cell_type": "code",
   "execution_count": null,
   "id": "6c08db8c-ae54-4493-9160-576557ff0080",
   "metadata": {},
   "outputs": [],
   "source": [
    "'''\n",
    "Q3. What is a Web API? Differentiate between API and Web API.\n",
    "soln: 1. web API is used only for web applications. API can be used for other software application\n",
    "      2. web API is used only for HTTP protocol. API can use any protocol like TCP,SMTP , HTTP etc.\n",
    "'''"
   ]
  },
  {
   "cell_type": "code",
   "execution_count": 1,
   "id": "d73e3646-613b-4e18-9d80-4b837aa57c79",
   "metadata": {},
   "outputs": [
    {
     "data": {
      "text/plain": [
       "'\\nQ4. Explain REST and SOAP Architecture. Mention shortcomings of SOAP.\\nsoln: REST refers to Representational State Transfer. \\n      it used HTTP to communicate between clients and servers\\n      it is simple, scalable and flexible.\\n      SOAP refers to Simple Object Access Protocol.\\n      it is XML based protocol.\\n      it can use TCP,SMTP,HTTP etc.\\n      DISADVANTAGES OF SOAP:\\n        1. high complexity\\n        2. less scalablity\\n        3. less flexible.\\n'"
      ]
     },
     "execution_count": 1,
     "metadata": {},
     "output_type": "execute_result"
    }
   ],
   "source": [
    "'''\n",
    "Q4. Explain REST and SOAP Architecture. Mention shortcomings of SOAP.\n",
    "soln: REST refers to Representational State Transfer. \n",
    "      it used HTTP to communicate between clients and servers\n",
    "      it is simple, scalable and flexible.\n",
    "      SOAP refers to Simple Object Access Protocol.\n",
    "      it is XML based protocol.\n",
    "      it can use TCP,SMTP,HTTP etc.\n",
    "      DISADVANTAGES OF SOAP:\n",
    "        1. high complexity\n",
    "        2. less scalablity\n",
    "        3. less flexible.\n",
    "'''\n",
    "      "
   ]
  },
  {
   "cell_type": "code",
   "execution_count": null,
   "id": "89abdedc-eda9-490f-973b-1567e0ebf896",
   "metadata": {},
   "outputs": [],
   "source": [
    "'''\n",
    "Q5. Differentiate between REST and SOAP.\n",
    "soln: REST stands for Reprentational state transfer.\n",
    "      SOAP stands for simple object access protocol.\n",
    "      REST is highly scalable, simple and flexible but less secure.\n",
    "      SOAP is less scalable , complex and less flexible but highly secure\n",
    "      REST used only HTTP protocol to communicate between servers and clients.\n",
    "      SOAP can use XML based protocols or protocols like TCP , SMTP OR HTTP.\n",
    "'''\n"
   ]
  },
  {
   "cell_type": "code",
   "execution_count": null,
   "id": "5e8427ff-e8d0-4063-b078-5a094e1c2d12",
   "metadata": {},
   "outputs": [],
   "source": []
  }
 ],
 "metadata": {
  "kernelspec": {
   "display_name": "Python 3 (ipykernel)",
   "language": "python",
   "name": "python3"
  },
  "language_info": {
   "codemirror_mode": {
    "name": "ipython",
    "version": 3
   },
   "file_extension": ".py",
   "mimetype": "text/x-python",
   "name": "python",
   "nbconvert_exporter": "python",
   "pygments_lexer": "ipython3",
   "version": "3.10.8"
  }
 },
 "nbformat": 4,
 "nbformat_minor": 5
}
